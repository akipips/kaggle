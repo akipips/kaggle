{
  "nbformat": 4,
  "nbformat_minor": 0,
  "metadata": {
    "kernelspec": {
      "display_name": "Python 3",
      "language": "python",
      "name": "python3"
    },
    "language_info": {
      "codemirror_mode": {
        "name": "ipython",
        "version": 3
      },
      "file_extension": ".py",
      "mimetype": "text/x-python",
      "name": "python",
      "nbconvert_exporter": "python",
      "pygments_lexer": "ipython3",
      "version": "3.6.6"
    },
    "colab": {
      "name": "beginner-s-stop-xgb-lgbm-blend.ipynb",
      "provenance": [],
      "include_colab_link": true
    },
    "accelerator": "GPU"
  },
  "cells": [
    {
      "cell_type": "markdown",
      "metadata": {
        "id": "view-in-github",
        "colab_type": "text"
      },
      "source": [
        "<a href=\"https://colab.research.google.com/github/akipips/kaggle/blob/master/house_price/EDA/beginner_s_stop_xgb_lgbm_blend.ipynb\" target=\"_parent\"><img src=\"https://colab.research.google.com/assets/colab-badge.svg\" alt=\"Open In Colab\"/></a>"
      ]
    },
    {
      "cell_type": "markdown",
      "metadata": {
        "id": "mY5-AKxt0oFb",
        "colab_type": "text"
      },
      "source": [
        "# A very simple XGB Regression Example for Beginners !\n",
        "\n",
        "\n",
        "\n",
        "![](https://marsrealty.co.nz/wp-content/uploads/2018/10/sold-1000x500.jpeg)"
      ]
    },
    {
      "cell_type": "markdown",
      "metadata": {
        "id": "Yx6vwkP_0oFd",
        "colab_type": "text"
      },
      "source": [
        "### Start here if...\n",
        "\n",
        "You have some experience with R or Python and machine learning basics. This is a perfect competition for data science students who have completed an online course in machine learning and are looking to expand their skill set before trying a featured competition. \n",
        "\n",
        "### Competition Description\n",
        "\n",
        "![](https://storage.googleapis.com/kaggle-competitions/kaggle/5407/media/housesbanner.png)\n",
        "\n",
        "Ask a home buyer to describe their dream house, and they probably won't begin with the height of the basement ceiling or the proximity to an east-west railroad. But this playground competition's dataset proves that much more influences price negotiations than the number of bedrooms or a white-picket fence.\n",
        "\n",
        "With 79 explanatory variables describing (almost) every aspect of residential homes in Ames, Iowa, this competition challenges you to predict the final price of each home.\n",
        "\n",
        "### Practice Skills\n",
        "\n",
        "- Creative feature engineering \n",
        "- Advanced regression techniques like random forest and gradient boosting"
      ]
    },
    {
      "cell_type": "markdown",
      "metadata": {
        "id": "rsHG6arP0oFf",
        "colab_type": "text"
      },
      "source": [
        "At the end of the notebook, some intro on yellowbricks!"
      ]
    },
    {
      "cell_type": "markdown",
      "metadata": {
        "id": "9q1XFsi60oFg",
        "colab_type": "text"
      },
      "source": [
        "# Imports"
      ]
    },
    {
      "cell_type": "code",
      "metadata": {
        "_cell_guid": "b1076dfc-b9ad-4769-8c92-a6c4dae69d19",
        "_uuid": "8f2839f25d086af736a60e9eeb907d3b93b6e0e5",
        "id": "ZZfBED2U0oFi",
        "colab_type": "code",
        "colab": {}
      },
      "source": [
        "import os\n",
        "import warnings\n",
        "import numpy as np \n",
        "import pandas as pd \n",
        "import matplotlib.pyplot as plt\n",
        "import seaborn as sns\n",
        "import pandas_profiling as pp\n",
        "from sklearn.linear_model import Lasso\n",
        "from sklearn.linear_model import LassoCV\n",
        "from sklearn.model_selection import train_test_split\n",
        "from sklearn.preprocessing import StandardScaler, LabelEncoder\n",
        "\n",
        "%matplotlib inline"
      ],
      "execution_count": null,
      "outputs": []
    },
    {
      "cell_type": "markdown",
      "metadata": {
        "id": "XKWvCDRr0oFs",
        "colab_type": "text"
      },
      "source": [
        "# Getting the data"
      ]
    },
    {
      "cell_type": "code",
      "metadata": {
        "_cell_guid": "79c7e3d0-c299-4dcb-8224-4455121ee9b0",
        "_uuid": "d629ff2d2480ee46fbb7e2d37f6b5fab8052498a",
        "id": "Vwiqxcmt0oFt",
        "colab_type": "code",
        "colab": {}
      },
      "source": [
        "train = pd.read_csv('/content/train.csv')\n",
        "test  = pd.read_csv('/content/test.csv')\n",
        "sample= pd.read_csv('/content/sample_submission.csv')"
      ],
      "execution_count": null,
      "outputs": []
    },
    {
      "cell_type": "code",
      "metadata": {
        "_uuid": "d7ce435fe4d90168b4aec47047bf9eaeb5f87075",
        "id": "yoKGInf_0oGF",
        "colab_type": "code",
        "colab": {}
      },
      "source": [
        "def display_all(df):\n",
        "    with pd.option_context(\"display.max_rows\", 1000, \"display.max_columns\", 1000): \n",
        "        display(df)"
      ],
      "execution_count": null,
      "outputs": []
    },
    {
      "cell_type": "markdown",
      "metadata": {
        "id": "5cnIxdlc0oGL",
        "colab_type": "text"
      },
      "source": [
        "# train and target"
      ]
    },
    {
      "cell_type": "code",
      "metadata": {
        "_uuid": "ac32c6ac2affaadda1824eaec3b1f84f5946a3d4",
        "id": "xsxSJM4T0oGM",
        "colab_type": "code",
        "colab": {}
      },
      "source": [
        "y     = train[['Id','SalePrice']]\n",
        "train_d=train\n",
        "train = train.drop('SalePrice',axis=1)"
      ],
      "execution_count": null,
      "outputs": []
    },
    {
      "cell_type": "code",
      "metadata": {
        "_uuid": "6c4770d6336e35f4b6de427eb9de62dee5565a00",
        "id": "ITw1tOVW0oGQ",
        "colab_type": "code",
        "colab": {
          "base_uri": "https://localhost:8080/",
          "height": 435
        },
        "outputId": "ac573f0b-e32e-45ac-8b34-a074b9738370"
      },
      "source": [
        "all_dfs = [train,test]\n",
        "all_df = pd.concat(all_dfs).reset_index(drop=True);\n",
        "all_df"
      ],
      "execution_count": null,
      "outputs": [
        {
          "output_type": "execute_result",
          "data": {
            "text/html": [
              "<div>\n",
              "<style scoped>\n",
              "    .dataframe tbody tr th:only-of-type {\n",
              "        vertical-align: middle;\n",
              "    }\n",
              "\n",
              "    .dataframe tbody tr th {\n",
              "        vertical-align: top;\n",
              "    }\n",
              "\n",
              "    .dataframe thead th {\n",
              "        text-align: right;\n",
              "    }\n",
              "</style>\n",
              "<table border=\"1\" class=\"dataframe\">\n",
              "  <thead>\n",
              "    <tr style=\"text-align: right;\">\n",
              "      <th></th>\n",
              "      <th>Id</th>\n",
              "      <th>MSSubClass</th>\n",
              "      <th>MSZoning</th>\n",
              "      <th>LotFrontage</th>\n",
              "      <th>LotArea</th>\n",
              "      <th>Street</th>\n",
              "      <th>Alley</th>\n",
              "      <th>LotShape</th>\n",
              "      <th>LandContour</th>\n",
              "      <th>Utilities</th>\n",
              "      <th>LotConfig</th>\n",
              "      <th>LandSlope</th>\n",
              "      <th>Neighborhood</th>\n",
              "      <th>Condition1</th>\n",
              "      <th>Condition2</th>\n",
              "      <th>BldgType</th>\n",
              "      <th>HouseStyle</th>\n",
              "      <th>OverallQual</th>\n",
              "      <th>OverallCond</th>\n",
              "      <th>YearBuilt</th>\n",
              "      <th>YearRemodAdd</th>\n",
              "      <th>RoofStyle</th>\n",
              "      <th>RoofMatl</th>\n",
              "      <th>Exterior1st</th>\n",
              "      <th>Exterior2nd</th>\n",
              "      <th>MasVnrType</th>\n",
              "      <th>MasVnrArea</th>\n",
              "      <th>ExterQual</th>\n",
              "      <th>ExterCond</th>\n",
              "      <th>Foundation</th>\n",
              "      <th>BsmtQual</th>\n",
              "      <th>BsmtCond</th>\n",
              "      <th>BsmtExposure</th>\n",
              "      <th>BsmtFinType1</th>\n",
              "      <th>BsmtFinSF1</th>\n",
              "      <th>BsmtFinType2</th>\n",
              "      <th>BsmtFinSF2</th>\n",
              "      <th>BsmtUnfSF</th>\n",
              "      <th>TotalBsmtSF</th>\n",
              "      <th>Heating</th>\n",
              "      <th>HeatingQC</th>\n",
              "      <th>CentralAir</th>\n",
              "      <th>Electrical</th>\n",
              "      <th>1stFlrSF</th>\n",
              "      <th>2ndFlrSF</th>\n",
              "      <th>LowQualFinSF</th>\n",
              "      <th>GrLivArea</th>\n",
              "      <th>BsmtFullBath</th>\n",
              "      <th>BsmtHalfBath</th>\n",
              "      <th>FullBath</th>\n",
              "      <th>HalfBath</th>\n",
              "      <th>BedroomAbvGr</th>\n",
              "      <th>KitchenAbvGr</th>\n",
              "      <th>KitchenQual</th>\n",
              "      <th>TotRmsAbvGrd</th>\n",
              "      <th>Functional</th>\n",
              "      <th>Fireplaces</th>\n",
              "      <th>FireplaceQu</th>\n",
              "      <th>GarageType</th>\n",
              "      <th>GarageYrBlt</th>\n",
              "      <th>GarageFinish</th>\n",
              "      <th>GarageCars</th>\n",
              "      <th>GarageArea</th>\n",
              "      <th>GarageQual</th>\n",
              "      <th>GarageCond</th>\n",
              "      <th>PavedDrive</th>\n",
              "      <th>WoodDeckSF</th>\n",
              "      <th>OpenPorchSF</th>\n",
              "      <th>EnclosedPorch</th>\n",
              "      <th>3SsnPorch</th>\n",
              "      <th>ScreenPorch</th>\n",
              "      <th>PoolArea</th>\n",
              "      <th>PoolQC</th>\n",
              "      <th>Fence</th>\n",
              "      <th>MiscFeature</th>\n",
              "      <th>MiscVal</th>\n",
              "      <th>MoSold</th>\n",
              "      <th>YrSold</th>\n",
              "      <th>SaleType</th>\n",
              "      <th>SaleCondition</th>\n",
              "    </tr>\n",
              "  </thead>\n",
              "  <tbody>\n",
              "    <tr>\n",
              "      <th>0</th>\n",
              "      <td>1</td>\n",
              "      <td>60</td>\n",
              "      <td>RL</td>\n",
              "      <td>65.0</td>\n",
              "      <td>8450</td>\n",
              "      <td>Pave</td>\n",
              "      <td>NaN</td>\n",
              "      <td>Reg</td>\n",
              "      <td>Lvl</td>\n",
              "      <td>AllPub</td>\n",
              "      <td>Inside</td>\n",
              "      <td>Gtl</td>\n",
              "      <td>CollgCr</td>\n",
              "      <td>Norm</td>\n",
              "      <td>Norm</td>\n",
              "      <td>1Fam</td>\n",
              "      <td>2Story</td>\n",
              "      <td>7</td>\n",
              "      <td>5</td>\n",
              "      <td>2003</td>\n",
              "      <td>2003</td>\n",
              "      <td>Gable</td>\n",
              "      <td>CompShg</td>\n",
              "      <td>VinylSd</td>\n",
              "      <td>VinylSd</td>\n",
              "      <td>BrkFace</td>\n",
              "      <td>196.0</td>\n",
              "      <td>Gd</td>\n",
              "      <td>TA</td>\n",
              "      <td>PConc</td>\n",
              "      <td>Gd</td>\n",
              "      <td>TA</td>\n",
              "      <td>No</td>\n",
              "      <td>GLQ</td>\n",
              "      <td>706.0</td>\n",
              "      <td>Unf</td>\n",
              "      <td>0.0</td>\n",
              "      <td>150.0</td>\n",
              "      <td>856.0</td>\n",
              "      <td>GasA</td>\n",
              "      <td>Ex</td>\n",
              "      <td>Y</td>\n",
              "      <td>SBrkr</td>\n",
              "      <td>856</td>\n",
              "      <td>854</td>\n",
              "      <td>0</td>\n",
              "      <td>1710</td>\n",
              "      <td>1.0</td>\n",
              "      <td>0.0</td>\n",
              "      <td>2</td>\n",
              "      <td>1</td>\n",
              "      <td>3</td>\n",
              "      <td>1</td>\n",
              "      <td>Gd</td>\n",
              "      <td>8</td>\n",
              "      <td>Typ</td>\n",
              "      <td>0</td>\n",
              "      <td>NaN</td>\n",
              "      <td>Attchd</td>\n",
              "      <td>2003.0</td>\n",
              "      <td>RFn</td>\n",
              "      <td>2.0</td>\n",
              "      <td>548.0</td>\n",
              "      <td>TA</td>\n",
              "      <td>TA</td>\n",
              "      <td>Y</td>\n",
              "      <td>0</td>\n",
              "      <td>61</td>\n",
              "      <td>0</td>\n",
              "      <td>0</td>\n",
              "      <td>0</td>\n",
              "      <td>0</td>\n",
              "      <td>NaN</td>\n",
              "      <td>NaN</td>\n",
              "      <td>NaN</td>\n",
              "      <td>0</td>\n",
              "      <td>2</td>\n",
              "      <td>2008</td>\n",
              "      <td>WD</td>\n",
              "      <td>Normal</td>\n",
              "    </tr>\n",
              "    <tr>\n",
              "      <th>1</th>\n",
              "      <td>2</td>\n",
              "      <td>20</td>\n",
              "      <td>RL</td>\n",
              "      <td>80.0</td>\n",
              "      <td>9600</td>\n",
              "      <td>Pave</td>\n",
              "      <td>NaN</td>\n",
              "      <td>Reg</td>\n",
              "      <td>Lvl</td>\n",
              "      <td>AllPub</td>\n",
              "      <td>FR2</td>\n",
              "      <td>Gtl</td>\n",
              "      <td>Veenker</td>\n",
              "      <td>Feedr</td>\n",
              "      <td>Norm</td>\n",
              "      <td>1Fam</td>\n",
              "      <td>1Story</td>\n",
              "      <td>6</td>\n",
              "      <td>8</td>\n",
              "      <td>1976</td>\n",
              "      <td>1976</td>\n",
              "      <td>Gable</td>\n",
              "      <td>CompShg</td>\n",
              "      <td>MetalSd</td>\n",
              "      <td>MetalSd</td>\n",
              "      <td>None</td>\n",
              "      <td>0.0</td>\n",
              "      <td>TA</td>\n",
              "      <td>TA</td>\n",
              "      <td>CBlock</td>\n",
              "      <td>Gd</td>\n",
              "      <td>TA</td>\n",
              "      <td>Gd</td>\n",
              "      <td>ALQ</td>\n",
              "      <td>978.0</td>\n",
              "      <td>Unf</td>\n",
              "      <td>0.0</td>\n",
              "      <td>284.0</td>\n",
              "      <td>1262.0</td>\n",
              "      <td>GasA</td>\n",
              "      <td>Ex</td>\n",
              "      <td>Y</td>\n",
              "      <td>SBrkr</td>\n",
              "      <td>1262</td>\n",
              "      <td>0</td>\n",
              "      <td>0</td>\n",
              "      <td>1262</td>\n",
              "      <td>0.0</td>\n",
              "      <td>1.0</td>\n",
              "      <td>2</td>\n",
              "      <td>0</td>\n",
              "      <td>3</td>\n",
              "      <td>1</td>\n",
              "      <td>TA</td>\n",
              "      <td>6</td>\n",
              "      <td>Typ</td>\n",
              "      <td>1</td>\n",
              "      <td>TA</td>\n",
              "      <td>Attchd</td>\n",
              "      <td>1976.0</td>\n",
              "      <td>RFn</td>\n",
              "      <td>2.0</td>\n",
              "      <td>460.0</td>\n",
              "      <td>TA</td>\n",
              "      <td>TA</td>\n",
              "      <td>Y</td>\n",
              "      <td>298</td>\n",
              "      <td>0</td>\n",
              "      <td>0</td>\n",
              "      <td>0</td>\n",
              "      <td>0</td>\n",
              "      <td>0</td>\n",
              "      <td>NaN</td>\n",
              "      <td>NaN</td>\n",
              "      <td>NaN</td>\n",
              "      <td>0</td>\n",
              "      <td>5</td>\n",
              "      <td>2007</td>\n",
              "      <td>WD</td>\n",
              "      <td>Normal</td>\n",
              "    </tr>\n",
              "    <tr>\n",
              "      <th>2</th>\n",
              "      <td>3</td>\n",
              "      <td>60</td>\n",
              "      <td>RL</td>\n",
              "      <td>68.0</td>\n",
              "      <td>11250</td>\n",
              "      <td>Pave</td>\n",
              "      <td>NaN</td>\n",
              "      <td>IR1</td>\n",
              "      <td>Lvl</td>\n",
              "      <td>AllPub</td>\n",
              "      <td>Inside</td>\n",
              "      <td>Gtl</td>\n",
              "      <td>CollgCr</td>\n",
              "      <td>Norm</td>\n",
              "      <td>Norm</td>\n",
              "      <td>1Fam</td>\n",
              "      <td>2Story</td>\n",
              "      <td>7</td>\n",
              "      <td>5</td>\n",
              "      <td>2001</td>\n",
              "      <td>2002</td>\n",
              "      <td>Gable</td>\n",
              "      <td>CompShg</td>\n",
              "      <td>VinylSd</td>\n",
              "      <td>VinylSd</td>\n",
              "      <td>BrkFace</td>\n",
              "      <td>162.0</td>\n",
              "      <td>Gd</td>\n",
              "      <td>TA</td>\n",
              "      <td>PConc</td>\n",
              "      <td>Gd</td>\n",
              "      <td>TA</td>\n",
              "      <td>Mn</td>\n",
              "      <td>GLQ</td>\n",
              "      <td>486.0</td>\n",
              "      <td>Unf</td>\n",
              "      <td>0.0</td>\n",
              "      <td>434.0</td>\n",
              "      <td>920.0</td>\n",
              "      <td>GasA</td>\n",
              "      <td>Ex</td>\n",
              "      <td>Y</td>\n",
              "      <td>SBrkr</td>\n",
              "      <td>920</td>\n",
              "      <td>866</td>\n",
              "      <td>0</td>\n",
              "      <td>1786</td>\n",
              "      <td>1.0</td>\n",
              "      <td>0.0</td>\n",
              "      <td>2</td>\n",
              "      <td>1</td>\n",
              "      <td>3</td>\n",
              "      <td>1</td>\n",
              "      <td>Gd</td>\n",
              "      <td>6</td>\n",
              "      <td>Typ</td>\n",
              "      <td>1</td>\n",
              "      <td>TA</td>\n",
              "      <td>Attchd</td>\n",
              "      <td>2001.0</td>\n",
              "      <td>RFn</td>\n",
              "      <td>2.0</td>\n",
              "      <td>608.0</td>\n",
              "      <td>TA</td>\n",
              "      <td>TA</td>\n",
              "      <td>Y</td>\n",
              "      <td>0</td>\n",
              "      <td>42</td>\n",
              "      <td>0</td>\n",
              "      <td>0</td>\n",
              "      <td>0</td>\n",
              "      <td>0</td>\n",
              "      <td>NaN</td>\n",
              "      <td>NaN</td>\n",
              "      <td>NaN</td>\n",
              "      <td>0</td>\n",
              "      <td>9</td>\n",
              "      <td>2008</td>\n",
              "      <td>WD</td>\n",
              "      <td>Normal</td>\n",
              "    </tr>\n",
              "    <tr>\n",
              "      <th>3</th>\n",
              "      <td>4</td>\n",
              "      <td>70</td>\n",
              "      <td>RL</td>\n",
              "      <td>60.0</td>\n",
              "      <td>9550</td>\n",
              "      <td>Pave</td>\n",
              "      <td>NaN</td>\n",
              "      <td>IR1</td>\n",
              "      <td>Lvl</td>\n",
              "      <td>AllPub</td>\n",
              "      <td>Corner</td>\n",
              "      <td>Gtl</td>\n",
              "      <td>Crawfor</td>\n",
              "      <td>Norm</td>\n",
              "      <td>Norm</td>\n",
              "      <td>1Fam</td>\n",
              "      <td>2Story</td>\n",
              "      <td>7</td>\n",
              "      <td>5</td>\n",
              "      <td>1915</td>\n",
              "      <td>1970</td>\n",
              "      <td>Gable</td>\n",
              "      <td>CompShg</td>\n",
              "      <td>Wd Sdng</td>\n",
              "      <td>Wd Shng</td>\n",
              "      <td>None</td>\n",
              "      <td>0.0</td>\n",
              "      <td>TA</td>\n",
              "      <td>TA</td>\n",
              "      <td>BrkTil</td>\n",
              "      <td>TA</td>\n",
              "      <td>Gd</td>\n",
              "      <td>No</td>\n",
              "      <td>ALQ</td>\n",
              "      <td>216.0</td>\n",
              "      <td>Unf</td>\n",
              "      <td>0.0</td>\n",
              "      <td>540.0</td>\n",
              "      <td>756.0</td>\n",
              "      <td>GasA</td>\n",
              "      <td>Gd</td>\n",
              "      <td>Y</td>\n",
              "      <td>SBrkr</td>\n",
              "      <td>961</td>\n",
              "      <td>756</td>\n",
              "      <td>0</td>\n",
              "      <td>1717</td>\n",
              "      <td>1.0</td>\n",
              "      <td>0.0</td>\n",
              "      <td>1</td>\n",
              "      <td>0</td>\n",
              "      <td>3</td>\n",
              "      <td>1</td>\n",
              "      <td>Gd</td>\n",
              "      <td>7</td>\n",
              "      <td>Typ</td>\n",
              "      <td>1</td>\n",
              "      <td>Gd</td>\n",
              "      <td>Detchd</td>\n",
              "      <td>1998.0</td>\n",
              "      <td>Unf</td>\n",
              "      <td>3.0</td>\n",
              "      <td>642.0</td>\n",
              "      <td>TA</td>\n",
              "      <td>TA</td>\n",
              "      <td>Y</td>\n",
              "      <td>0</td>\n",
              "      <td>35</td>\n",
              "      <td>272</td>\n",
              "      <td>0</td>\n",
              "      <td>0</td>\n",
              "      <td>0</td>\n",
              "      <td>NaN</td>\n",
              "      <td>NaN</td>\n",
              "      <td>NaN</td>\n",
              "      <td>0</td>\n",
              "      <td>2</td>\n",
              "      <td>2006</td>\n",
              "      <td>WD</td>\n",
              "      <td>Abnorml</td>\n",
              "    </tr>\n",
              "    <tr>\n",
              "      <th>4</th>\n",
              "      <td>5</td>\n",
              "      <td>60</td>\n",
              "      <td>RL</td>\n",
              "      <td>84.0</td>\n",
              "      <td>14260</td>\n",
              "      <td>Pave</td>\n",
              "      <td>NaN</td>\n",
              "      <td>IR1</td>\n",
              "      <td>Lvl</td>\n",
              "      <td>AllPub</td>\n",
              "      <td>FR2</td>\n",
              "      <td>Gtl</td>\n",
              "      <td>NoRidge</td>\n",
              "      <td>Norm</td>\n",
              "      <td>Norm</td>\n",
              "      <td>1Fam</td>\n",
              "      <td>2Story</td>\n",
              "      <td>8</td>\n",
              "      <td>5</td>\n",
              "      <td>2000</td>\n",
              "      <td>2000</td>\n",
              "      <td>Gable</td>\n",
              "      <td>CompShg</td>\n",
              "      <td>VinylSd</td>\n",
              "      <td>VinylSd</td>\n",
              "      <td>BrkFace</td>\n",
              "      <td>350.0</td>\n",
              "      <td>Gd</td>\n",
              "      <td>TA</td>\n",
              "      <td>PConc</td>\n",
              "      <td>Gd</td>\n",
              "      <td>TA</td>\n",
              "      <td>Av</td>\n",
              "      <td>GLQ</td>\n",
              "      <td>655.0</td>\n",
              "      <td>Unf</td>\n",
              "      <td>0.0</td>\n",
              "      <td>490.0</td>\n",
              "      <td>1145.0</td>\n",
              "      <td>GasA</td>\n",
              "      <td>Ex</td>\n",
              "      <td>Y</td>\n",
              "      <td>SBrkr</td>\n",
              "      <td>1145</td>\n",
              "      <td>1053</td>\n",
              "      <td>0</td>\n",
              "      <td>2198</td>\n",
              "      <td>1.0</td>\n",
              "      <td>0.0</td>\n",
              "      <td>2</td>\n",
              "      <td>1</td>\n",
              "      <td>4</td>\n",
              "      <td>1</td>\n",
              "      <td>Gd</td>\n",
              "      <td>9</td>\n",
              "      <td>Typ</td>\n",
              "      <td>1</td>\n",
              "      <td>TA</td>\n",
              "      <td>Attchd</td>\n",
              "      <td>2000.0</td>\n",
              "      <td>RFn</td>\n",
              "      <td>3.0</td>\n",
              "      <td>836.0</td>\n",
              "      <td>TA</td>\n",
              "      <td>TA</td>\n",
              "      <td>Y</td>\n",
              "      <td>192</td>\n",
              "      <td>84</td>\n",
              "      <td>0</td>\n",
              "      <td>0</td>\n",
              "      <td>0</td>\n",
              "      <td>0</td>\n",
              "      <td>NaN</td>\n",
              "      <td>NaN</td>\n",
              "      <td>NaN</td>\n",
              "      <td>0</td>\n",
              "      <td>12</td>\n",
              "      <td>2008</td>\n",
              "      <td>WD</td>\n",
              "      <td>Normal</td>\n",
              "    </tr>\n",
              "    <tr>\n",
              "      <th>...</th>\n",
              "      <td>...</td>\n",
              "      <td>...</td>\n",
              "      <td>...</td>\n",
              "      <td>...</td>\n",
              "      <td>...</td>\n",
              "      <td>...</td>\n",
              "      <td>...</td>\n",
              "      <td>...</td>\n",
              "      <td>...</td>\n",
              "      <td>...</td>\n",
              "      <td>...</td>\n",
              "      <td>...</td>\n",
              "      <td>...</td>\n",
              "      <td>...</td>\n",
              "      <td>...</td>\n",
              "      <td>...</td>\n",
              "      <td>...</td>\n",
              "      <td>...</td>\n",
              "      <td>...</td>\n",
              "      <td>...</td>\n",
              "      <td>...</td>\n",
              "      <td>...</td>\n",
              "      <td>...</td>\n",
              "      <td>...</td>\n",
              "      <td>...</td>\n",
              "      <td>...</td>\n",
              "      <td>...</td>\n",
              "      <td>...</td>\n",
              "      <td>...</td>\n",
              "      <td>...</td>\n",
              "      <td>...</td>\n",
              "      <td>...</td>\n",
              "      <td>...</td>\n",
              "      <td>...</td>\n",
              "      <td>...</td>\n",
              "      <td>...</td>\n",
              "      <td>...</td>\n",
              "      <td>...</td>\n",
              "      <td>...</td>\n",
              "      <td>...</td>\n",
              "      <td>...</td>\n",
              "      <td>...</td>\n",
              "      <td>...</td>\n",
              "      <td>...</td>\n",
              "      <td>...</td>\n",
              "      <td>...</td>\n",
              "      <td>...</td>\n",
              "      <td>...</td>\n",
              "      <td>...</td>\n",
              "      <td>...</td>\n",
              "      <td>...</td>\n",
              "      <td>...</td>\n",
              "      <td>...</td>\n",
              "      <td>...</td>\n",
              "      <td>...</td>\n",
              "      <td>...</td>\n",
              "      <td>...</td>\n",
              "      <td>...</td>\n",
              "      <td>...</td>\n",
              "      <td>...</td>\n",
              "      <td>...</td>\n",
              "      <td>...</td>\n",
              "      <td>...</td>\n",
              "      <td>...</td>\n",
              "      <td>...</td>\n",
              "      <td>...</td>\n",
              "      <td>...</td>\n",
              "      <td>...</td>\n",
              "      <td>...</td>\n",
              "      <td>...</td>\n",
              "      <td>...</td>\n",
              "      <td>...</td>\n",
              "      <td>...</td>\n",
              "      <td>...</td>\n",
              "      <td>...</td>\n",
              "      <td>...</td>\n",
              "      <td>...</td>\n",
              "      <td>...</td>\n",
              "      <td>...</td>\n",
              "      <td>...</td>\n",
              "    </tr>\n",
              "    <tr>\n",
              "      <th>2914</th>\n",
              "      <td>2915</td>\n",
              "      <td>160</td>\n",
              "      <td>RM</td>\n",
              "      <td>21.0</td>\n",
              "      <td>1936</td>\n",
              "      <td>Pave</td>\n",
              "      <td>NaN</td>\n",
              "      <td>Reg</td>\n",
              "      <td>Lvl</td>\n",
              "      <td>AllPub</td>\n",
              "      <td>Inside</td>\n",
              "      <td>Gtl</td>\n",
              "      <td>MeadowV</td>\n",
              "      <td>Norm</td>\n",
              "      <td>Norm</td>\n",
              "      <td>Twnhs</td>\n",
              "      <td>2Story</td>\n",
              "      <td>4</td>\n",
              "      <td>7</td>\n",
              "      <td>1970</td>\n",
              "      <td>1970</td>\n",
              "      <td>Gable</td>\n",
              "      <td>CompShg</td>\n",
              "      <td>CemntBd</td>\n",
              "      <td>CmentBd</td>\n",
              "      <td>None</td>\n",
              "      <td>0.0</td>\n",
              "      <td>TA</td>\n",
              "      <td>TA</td>\n",
              "      <td>CBlock</td>\n",
              "      <td>TA</td>\n",
              "      <td>TA</td>\n",
              "      <td>No</td>\n",
              "      <td>Unf</td>\n",
              "      <td>0.0</td>\n",
              "      <td>Unf</td>\n",
              "      <td>0.0</td>\n",
              "      <td>546.0</td>\n",
              "      <td>546.0</td>\n",
              "      <td>GasA</td>\n",
              "      <td>Gd</td>\n",
              "      <td>Y</td>\n",
              "      <td>SBrkr</td>\n",
              "      <td>546</td>\n",
              "      <td>546</td>\n",
              "      <td>0</td>\n",
              "      <td>1092</td>\n",
              "      <td>0.0</td>\n",
              "      <td>0.0</td>\n",
              "      <td>1</td>\n",
              "      <td>1</td>\n",
              "      <td>3</td>\n",
              "      <td>1</td>\n",
              "      <td>TA</td>\n",
              "      <td>5</td>\n",
              "      <td>Typ</td>\n",
              "      <td>0</td>\n",
              "      <td>NaN</td>\n",
              "      <td>NaN</td>\n",
              "      <td>NaN</td>\n",
              "      <td>NaN</td>\n",
              "      <td>0.0</td>\n",
              "      <td>0.0</td>\n",
              "      <td>NaN</td>\n",
              "      <td>NaN</td>\n",
              "      <td>Y</td>\n",
              "      <td>0</td>\n",
              "      <td>0</td>\n",
              "      <td>0</td>\n",
              "      <td>0</td>\n",
              "      <td>0</td>\n",
              "      <td>0</td>\n",
              "      <td>NaN</td>\n",
              "      <td>NaN</td>\n",
              "      <td>NaN</td>\n",
              "      <td>0</td>\n",
              "      <td>6</td>\n",
              "      <td>2006</td>\n",
              "      <td>WD</td>\n",
              "      <td>Normal</td>\n",
              "    </tr>\n",
              "    <tr>\n",
              "      <th>2915</th>\n",
              "      <td>2916</td>\n",
              "      <td>160</td>\n",
              "      <td>RM</td>\n",
              "      <td>21.0</td>\n",
              "      <td>1894</td>\n",
              "      <td>Pave</td>\n",
              "      <td>NaN</td>\n",
              "      <td>Reg</td>\n",
              "      <td>Lvl</td>\n",
              "      <td>AllPub</td>\n",
              "      <td>Inside</td>\n",
              "      <td>Gtl</td>\n",
              "      <td>MeadowV</td>\n",
              "      <td>Norm</td>\n",
              "      <td>Norm</td>\n",
              "      <td>TwnhsE</td>\n",
              "      <td>2Story</td>\n",
              "      <td>4</td>\n",
              "      <td>5</td>\n",
              "      <td>1970</td>\n",
              "      <td>1970</td>\n",
              "      <td>Gable</td>\n",
              "      <td>CompShg</td>\n",
              "      <td>CemntBd</td>\n",
              "      <td>CmentBd</td>\n",
              "      <td>None</td>\n",
              "      <td>0.0</td>\n",
              "      <td>TA</td>\n",
              "      <td>TA</td>\n",
              "      <td>CBlock</td>\n",
              "      <td>TA</td>\n",
              "      <td>TA</td>\n",
              "      <td>No</td>\n",
              "      <td>Rec</td>\n",
              "      <td>252.0</td>\n",
              "      <td>Unf</td>\n",
              "      <td>0.0</td>\n",
              "      <td>294.0</td>\n",
              "      <td>546.0</td>\n",
              "      <td>GasA</td>\n",
              "      <td>TA</td>\n",
              "      <td>Y</td>\n",
              "      <td>SBrkr</td>\n",
              "      <td>546</td>\n",
              "      <td>546</td>\n",
              "      <td>0</td>\n",
              "      <td>1092</td>\n",
              "      <td>0.0</td>\n",
              "      <td>0.0</td>\n",
              "      <td>1</td>\n",
              "      <td>1</td>\n",
              "      <td>3</td>\n",
              "      <td>1</td>\n",
              "      <td>TA</td>\n",
              "      <td>6</td>\n",
              "      <td>Typ</td>\n",
              "      <td>0</td>\n",
              "      <td>NaN</td>\n",
              "      <td>CarPort</td>\n",
              "      <td>1970.0</td>\n",
              "      <td>Unf</td>\n",
              "      <td>1.0</td>\n",
              "      <td>286.0</td>\n",
              "      <td>TA</td>\n",
              "      <td>TA</td>\n",
              "      <td>Y</td>\n",
              "      <td>0</td>\n",
              "      <td>24</td>\n",
              "      <td>0</td>\n",
              "      <td>0</td>\n",
              "      <td>0</td>\n",
              "      <td>0</td>\n",
              "      <td>NaN</td>\n",
              "      <td>NaN</td>\n",
              "      <td>NaN</td>\n",
              "      <td>0</td>\n",
              "      <td>4</td>\n",
              "      <td>2006</td>\n",
              "      <td>WD</td>\n",
              "      <td>Abnorml</td>\n",
              "    </tr>\n",
              "    <tr>\n",
              "      <th>2916</th>\n",
              "      <td>2917</td>\n",
              "      <td>20</td>\n",
              "      <td>RL</td>\n",
              "      <td>160.0</td>\n",
              "      <td>20000</td>\n",
              "      <td>Pave</td>\n",
              "      <td>NaN</td>\n",
              "      <td>Reg</td>\n",
              "      <td>Lvl</td>\n",
              "      <td>AllPub</td>\n",
              "      <td>Inside</td>\n",
              "      <td>Gtl</td>\n",
              "      <td>Mitchel</td>\n",
              "      <td>Norm</td>\n",
              "      <td>Norm</td>\n",
              "      <td>1Fam</td>\n",
              "      <td>1Story</td>\n",
              "      <td>5</td>\n",
              "      <td>7</td>\n",
              "      <td>1960</td>\n",
              "      <td>1996</td>\n",
              "      <td>Gable</td>\n",
              "      <td>CompShg</td>\n",
              "      <td>VinylSd</td>\n",
              "      <td>VinylSd</td>\n",
              "      <td>None</td>\n",
              "      <td>0.0</td>\n",
              "      <td>TA</td>\n",
              "      <td>TA</td>\n",
              "      <td>CBlock</td>\n",
              "      <td>TA</td>\n",
              "      <td>TA</td>\n",
              "      <td>No</td>\n",
              "      <td>ALQ</td>\n",
              "      <td>1224.0</td>\n",
              "      <td>Unf</td>\n",
              "      <td>0.0</td>\n",
              "      <td>0.0</td>\n",
              "      <td>1224.0</td>\n",
              "      <td>GasA</td>\n",
              "      <td>Ex</td>\n",
              "      <td>Y</td>\n",
              "      <td>SBrkr</td>\n",
              "      <td>1224</td>\n",
              "      <td>0</td>\n",
              "      <td>0</td>\n",
              "      <td>1224</td>\n",
              "      <td>1.0</td>\n",
              "      <td>0.0</td>\n",
              "      <td>1</td>\n",
              "      <td>0</td>\n",
              "      <td>4</td>\n",
              "      <td>1</td>\n",
              "      <td>TA</td>\n",
              "      <td>7</td>\n",
              "      <td>Typ</td>\n",
              "      <td>1</td>\n",
              "      <td>TA</td>\n",
              "      <td>Detchd</td>\n",
              "      <td>1960.0</td>\n",
              "      <td>Unf</td>\n",
              "      <td>2.0</td>\n",
              "      <td>576.0</td>\n",
              "      <td>TA</td>\n",
              "      <td>TA</td>\n",
              "      <td>Y</td>\n",
              "      <td>474</td>\n",
              "      <td>0</td>\n",
              "      <td>0</td>\n",
              "      <td>0</td>\n",
              "      <td>0</td>\n",
              "      <td>0</td>\n",
              "      <td>NaN</td>\n",
              "      <td>NaN</td>\n",
              "      <td>NaN</td>\n",
              "      <td>0</td>\n",
              "      <td>9</td>\n",
              "      <td>2006</td>\n",
              "      <td>WD</td>\n",
              "      <td>Abnorml</td>\n",
              "    </tr>\n",
              "    <tr>\n",
              "      <th>2917</th>\n",
              "      <td>2918</td>\n",
              "      <td>85</td>\n",
              "      <td>RL</td>\n",
              "      <td>62.0</td>\n",
              "      <td>10441</td>\n",
              "      <td>Pave</td>\n",
              "      <td>NaN</td>\n",
              "      <td>Reg</td>\n",
              "      <td>Lvl</td>\n",
              "      <td>AllPub</td>\n",
              "      <td>Inside</td>\n",
              "      <td>Gtl</td>\n",
              "      <td>Mitchel</td>\n",
              "      <td>Norm</td>\n",
              "      <td>Norm</td>\n",
              "      <td>1Fam</td>\n",
              "      <td>SFoyer</td>\n",
              "      <td>5</td>\n",
              "      <td>5</td>\n",
              "      <td>1992</td>\n",
              "      <td>1992</td>\n",
              "      <td>Gable</td>\n",
              "      <td>CompShg</td>\n",
              "      <td>HdBoard</td>\n",
              "      <td>Wd Shng</td>\n",
              "      <td>None</td>\n",
              "      <td>0.0</td>\n",
              "      <td>TA</td>\n",
              "      <td>TA</td>\n",
              "      <td>PConc</td>\n",
              "      <td>Gd</td>\n",
              "      <td>TA</td>\n",
              "      <td>Av</td>\n",
              "      <td>GLQ</td>\n",
              "      <td>337.0</td>\n",
              "      <td>Unf</td>\n",
              "      <td>0.0</td>\n",
              "      <td>575.0</td>\n",
              "      <td>912.0</td>\n",
              "      <td>GasA</td>\n",
              "      <td>TA</td>\n",
              "      <td>Y</td>\n",
              "      <td>SBrkr</td>\n",
              "      <td>970</td>\n",
              "      <td>0</td>\n",
              "      <td>0</td>\n",
              "      <td>970</td>\n",
              "      <td>0.0</td>\n",
              "      <td>1.0</td>\n",
              "      <td>1</td>\n",
              "      <td>0</td>\n",
              "      <td>3</td>\n",
              "      <td>1</td>\n",
              "      <td>TA</td>\n",
              "      <td>6</td>\n",
              "      <td>Typ</td>\n",
              "      <td>0</td>\n",
              "      <td>NaN</td>\n",
              "      <td>NaN</td>\n",
              "      <td>NaN</td>\n",
              "      <td>NaN</td>\n",
              "      <td>0.0</td>\n",
              "      <td>0.0</td>\n",
              "      <td>NaN</td>\n",
              "      <td>NaN</td>\n",
              "      <td>Y</td>\n",
              "      <td>80</td>\n",
              "      <td>32</td>\n",
              "      <td>0</td>\n",
              "      <td>0</td>\n",
              "      <td>0</td>\n",
              "      <td>0</td>\n",
              "      <td>NaN</td>\n",
              "      <td>MnPrv</td>\n",
              "      <td>Shed</td>\n",
              "      <td>700</td>\n",
              "      <td>7</td>\n",
              "      <td>2006</td>\n",
              "      <td>WD</td>\n",
              "      <td>Normal</td>\n",
              "    </tr>\n",
              "    <tr>\n",
              "      <th>2918</th>\n",
              "      <td>2919</td>\n",
              "      <td>60</td>\n",
              "      <td>RL</td>\n",
              "      <td>74.0</td>\n",
              "      <td>9627</td>\n",
              "      <td>Pave</td>\n",
              "      <td>NaN</td>\n",
              "      <td>Reg</td>\n",
              "      <td>Lvl</td>\n",
              "      <td>AllPub</td>\n",
              "      <td>Inside</td>\n",
              "      <td>Mod</td>\n",
              "      <td>Mitchel</td>\n",
              "      <td>Norm</td>\n",
              "      <td>Norm</td>\n",
              "      <td>1Fam</td>\n",
              "      <td>2Story</td>\n",
              "      <td>7</td>\n",
              "      <td>5</td>\n",
              "      <td>1993</td>\n",
              "      <td>1994</td>\n",
              "      <td>Gable</td>\n",
              "      <td>CompShg</td>\n",
              "      <td>HdBoard</td>\n",
              "      <td>HdBoard</td>\n",
              "      <td>BrkFace</td>\n",
              "      <td>94.0</td>\n",
              "      <td>TA</td>\n",
              "      <td>TA</td>\n",
              "      <td>PConc</td>\n",
              "      <td>Gd</td>\n",
              "      <td>TA</td>\n",
              "      <td>Av</td>\n",
              "      <td>LwQ</td>\n",
              "      <td>758.0</td>\n",
              "      <td>Unf</td>\n",
              "      <td>0.0</td>\n",
              "      <td>238.0</td>\n",
              "      <td>996.0</td>\n",
              "      <td>GasA</td>\n",
              "      <td>Ex</td>\n",
              "      <td>Y</td>\n",
              "      <td>SBrkr</td>\n",
              "      <td>996</td>\n",
              "      <td>1004</td>\n",
              "      <td>0</td>\n",
              "      <td>2000</td>\n",
              "      <td>0.0</td>\n",
              "      <td>0.0</td>\n",
              "      <td>2</td>\n",
              "      <td>1</td>\n",
              "      <td>3</td>\n",
              "      <td>1</td>\n",
              "      <td>TA</td>\n",
              "      <td>9</td>\n",
              "      <td>Typ</td>\n",
              "      <td>1</td>\n",
              "      <td>TA</td>\n",
              "      <td>Attchd</td>\n",
              "      <td>1993.0</td>\n",
              "      <td>Fin</td>\n",
              "      <td>3.0</td>\n",
              "      <td>650.0</td>\n",
              "      <td>TA</td>\n",
              "      <td>TA</td>\n",
              "      <td>Y</td>\n",
              "      <td>190</td>\n",
              "      <td>48</td>\n",
              "      <td>0</td>\n",
              "      <td>0</td>\n",
              "      <td>0</td>\n",
              "      <td>0</td>\n",
              "      <td>NaN</td>\n",
              "      <td>NaN</td>\n",
              "      <td>NaN</td>\n",
              "      <td>0</td>\n",
              "      <td>11</td>\n",
              "      <td>2006</td>\n",
              "      <td>WD</td>\n",
              "      <td>Normal</td>\n",
              "    </tr>\n",
              "  </tbody>\n",
              "</table>\n",
              "<p>2919 rows × 80 columns</p>\n",
              "</div>"
            ],
            "text/plain": [
              "        Id  MSSubClass MSZoning  ...  YrSold  SaleType SaleCondition\n",
              "0        1          60       RL  ...    2008        WD        Normal\n",
              "1        2          20       RL  ...    2007        WD        Normal\n",
              "2        3          60       RL  ...    2008        WD        Normal\n",
              "3        4          70       RL  ...    2006        WD       Abnorml\n",
              "4        5          60       RL  ...    2008        WD        Normal\n",
              "...    ...         ...      ...  ...     ...       ...           ...\n",
              "2914  2915         160       RM  ...    2006        WD        Normal\n",
              "2915  2916         160       RM  ...    2006        WD       Abnorml\n",
              "2916  2917          20       RL  ...    2006        WD       Abnorml\n",
              "2917  2918          85       RL  ...    2006        WD        Normal\n",
              "2918  2919          60       RL  ...    2006        WD        Normal\n",
              "\n",
              "[2919 rows x 80 columns]"
            ]
          },
          "metadata": {
            "tags": []
          },
          "execution_count": 72
        }
      ]
    },
    {
      "cell_type": "code",
      "metadata": {
        "_uuid": "30d3eef64cc1c5ce58f81c9e861934f65723a03f",
        "id": "8jvSPRMN0oGV",
        "colab_type": "code",
        "colab": {
          "base_uri": "https://localhost:8080/",
          "height": 1000
        },
        "outputId": "1ce17932-23b4-426f-91bd-548db08b8018"
      },
      "source": [
        "display_all(all_df.isnull().sum()/all_df.shape[0])#all_df.shape[0]=2919\n",
        "#欠損値の割合"
      ],
      "execution_count": null,
      "outputs": [
        {
          "output_type": "display_data",
          "data": {
            "text/plain": [
              "Id               0.000000\n",
              "MSSubClass       0.000000\n",
              "MSZoning         0.001370\n",
              "LotFrontage      0.166495\n",
              "LotArea          0.000000\n",
              "Street           0.000000\n",
              "Alley            0.932169\n",
              "LotShape         0.000000\n",
              "LandContour      0.000000\n",
              "Utilities        0.000685\n",
              "LotConfig        0.000000\n",
              "LandSlope        0.000000\n",
              "Neighborhood     0.000000\n",
              "Condition1       0.000000\n",
              "Condition2       0.000000\n",
              "BldgType         0.000000\n",
              "HouseStyle       0.000000\n",
              "OverallQual      0.000000\n",
              "OverallCond      0.000000\n",
              "YearBuilt        0.000000\n",
              "YearRemodAdd     0.000000\n",
              "RoofStyle        0.000000\n",
              "RoofMatl         0.000000\n",
              "Exterior1st      0.000343\n",
              "Exterior2nd      0.000343\n",
              "MasVnrType       0.008222\n",
              "MasVnrArea       0.007879\n",
              "ExterQual        0.000000\n",
              "ExterCond        0.000000\n",
              "Foundation       0.000000\n",
              "BsmtQual         0.027749\n",
              "BsmtCond         0.028092\n",
              "BsmtExposure     0.028092\n",
              "BsmtFinType1     0.027064\n",
              "BsmtFinSF1       0.000343\n",
              "BsmtFinType2     0.027407\n",
              "BsmtFinSF2       0.000343\n",
              "BsmtUnfSF        0.000343\n",
              "TotalBsmtSF      0.000343\n",
              "Heating          0.000000\n",
              "HeatingQC        0.000000\n",
              "CentralAir       0.000000\n",
              "Electrical       0.000343\n",
              "1stFlrSF         0.000000\n",
              "2ndFlrSF         0.000000\n",
              "LowQualFinSF     0.000000\n",
              "GrLivArea        0.000000\n",
              "BsmtFullBath     0.000685\n",
              "BsmtHalfBath     0.000685\n",
              "FullBath         0.000000\n",
              "HalfBath         0.000000\n",
              "BedroomAbvGr     0.000000\n",
              "KitchenAbvGr     0.000000\n",
              "KitchenQual      0.000343\n",
              "TotRmsAbvGrd     0.000000\n",
              "Functional       0.000685\n",
              "Fireplaces       0.000000\n",
              "FireplaceQu      0.486468\n",
              "GarageType       0.053786\n",
              "GarageYrBlt      0.054471\n",
              "GarageFinish     0.054471\n",
              "GarageCars       0.000343\n",
              "GarageArea       0.000343\n",
              "GarageQual       0.054471\n",
              "GarageCond       0.054471\n",
              "PavedDrive       0.000000\n",
              "WoodDeckSF       0.000000\n",
              "OpenPorchSF      0.000000\n",
              "EnclosedPorch    0.000000\n",
              "3SsnPorch        0.000000\n",
              "ScreenPorch      0.000000\n",
              "PoolArea         0.000000\n",
              "PoolQC           0.996574\n",
              "Fence            0.804385\n",
              "MiscFeature      0.964029\n",
              "MiscVal          0.000000\n",
              "MoSold           0.000000\n",
              "YrSold           0.000000\n",
              "SaleType         0.000343\n",
              "SaleCondition    0.000000\n",
              "dtype: float64"
            ]
          },
          "metadata": {
            "tags": []
          }
        }
      ]
    },
    {
      "cell_type": "markdown",
      "metadata": {
        "id": "2YI19_sz0oGa",
        "colab_type": "text"
      },
      "source": [
        "# don't really know what to do with these!\n",
        "欠損値多すぎだから捨てる"
      ]
    },
    {
      "cell_type": "code",
      "metadata": {
        "_uuid": "0b7984209016df96b980bce73e73aabb7942c6dd",
        "id": "bFl9Loyu0oGb",
        "colab_type": "code",
        "colab": {}
      },
      "source": [
        "all_df.drop(['Alley','PoolQC','MiscFeature','Fence','FireplaceQu','Utilities'],axis=1,inplace=True)#alley路地アクセスのタイプ misc他のカテゴリでカバーされていないその他の機能"
      ],
      "execution_count": null,
      "outputs": []
    },
    {
      "cell_type": "markdown",
      "metadata": {
        "id": "AfBv851Z0oGf",
        "colab_type": "text"
      },
      "source": [
        "# let's fill the Na with specific values!"
      ]
    },
    {
      "cell_type": "code",
      "metadata": {
        "id": "Xqz0oGdB5igo",
        "colab_type": "code",
        "colab": {}
      },
      "source": [
        "def describe_object(df,col_name):\n",
        "  print(\"カラム名:{}\".format(col_name))\n",
        "  print(\"{}個の値があります。\".format(df[col_name].nunique()))\n",
        "  print(\"詳細\")\n",
        "  print(df[col_name].value_counts(dropna=False,normalize=True))\n",
        "  fig, ax = plt.subplots(figsize=(14,7))\n",
        "  plt.xticks(rotation=90);\n",
        "  if df[col_name].dtype!=\"float64\" or  df[col_name].dtype!=\"int64\":\n",
        "    sns.swarmplot(x=col_name, y=\"SalePrice\",data=df,ax=ax)\n",
        "  else:\n",
        "    df.plot.scatter(x=col_name, y='SalePrice')"
      ],
      "execution_count": null,
      "outputs": []
    },
    {
      "cell_type": "code",
      "metadata": {
        "id": "9uKapzrC5rE3",
        "colab_type": "code",
        "colab": {
          "base_uri": "https://localhost:8080/",
          "height": 611
        },
        "outputId": "aa6f084e-8f21-40e1-924b-d97bcc951486"
      },
      "source": [
        "describe_object(train_d,\"BsmtCond\")"
      ],
      "execution_count": null,
      "outputs": [
        {
          "output_type": "stream",
          "text": [
            "カラム名:BsmtCond\n",
            "4個の値があります。\n",
            "詳細\n",
            "TA     0.897945\n",
            "Gd     0.044521\n",
            "Fa     0.030822\n",
            "NaN    0.025342\n",
            "Po     0.001370\n",
            "Name: BsmtCond, dtype: float64\n"
          ],
          "name": "stdout"
        },
        {
          "output_type": "display_data",
          "data": {
            "image/png": "[encoded data removed]",
            "text/plain": [
              "<Figure size 1008x504 with 1 Axes>"
            ]
          },
          "metadata": {
            "tags": [],
            "needs_background": "light"
          }
        }
      ]
    },
    {
      "cell_type": "code",
      "metadata": {
        "id": "aQLdnQNm8Gyn",
        "colab_type": "code",
        "colab": {
          "base_uri": "https://localhost:8080/",
          "height": 35
        },
        "outputId": "3850b08f-f98a-4863-fc10-9c97b8f21bc2"
      },
      "source": [
        "train_d[\"BsmtCond\"].dtype"
      ],
      "execution_count": null,
      "outputs": [
        {
          "output_type": "execute_result",
          "data": {
            "text/plain": [
              "dtype('O')"
            ]
          },
          "metadata": {
            "tags": []
          },
          "execution_count": 77
        }
      ]
    },
    {
      "cell_type": "code",
      "metadata": {
        "_uuid": "5fef24bd95f2c69709ab64b83b1b8f893875d3bb",
        "id": "6jA7N5kJ0oGg",
        "colab_type": "code",
        "colab": {}
      },
      "source": [
        "all_df['LotFrontage'].fillna(value=all_df['LotFrontage'].median(),inplace=True)\n",
        "all_df['MasVnrType'].fillna(value='None',inplace=True)\n",
        "all_df['MasVnrArea'].fillna(0,inplace=True)\n",
        "all_df['BsmtCond'].fillna(value='TA',inplace=True)\n",
        "all_df['BsmtExposure'].fillna(value='No',inplace=True)\n",
        "all_df['Electrical'].fillna(value='SBrkr',inplace=True)\n",
        "all_df['BsmtFinType2'].fillna(value='Unf',inplace=True)\n",
        "all_df['GarageType'].fillna(value='Attchd',inplace=True)\n",
        "all_df['GarageYrBlt'].fillna(value=all_df['GarageYrBlt'].median(),inplace=True)\n",
        "all_df['GarageFinish'].fillna(value='Unf',inplace=True)\n",
        "all_df['GarageQual'].fillna(value='TA',inplace=True)\n",
        "all_df['GarageCond'].fillna(value='TA',inplace=True)\n",
        "all_df['BsmtFinType1'].fillna(value='NO',inplace=True)\n",
        "all_df['BsmtQual'].fillna(value='No',inplace=True)\n",
        "all_df['BsmtFullBath'].fillna(value=all_df['BsmtFullBath'].median(),inplace=True)\n",
        "all_df['BsmtFinSF1'].fillna(value=all_df['BsmtFinSF1'].median(),inplace=True)\n",
        "all_df['BsmtFinSF2'].fillna(value=0,inplace=True)\n",
        "all_df['BsmtUnfSF'].fillna(value=0,inplace=True)\n",
        "all_df['TotalBsmtSF'].fillna(value=all_df['TotalBsmtSF'].median(),inplace=True)\n",
        "all_df['BsmtHalfBath'].fillna(value=0,inplace=True)\n",
        "all_df['GarageCars'].fillna(value=all_df['GarageCars'].median(),inplace=True)\n",
        "all_df['GarageArea'].fillna(value=all_df['GarageArea'].median(),inplace=True)"
      ],
      "execution_count": null,
      "outputs": []
    },
    {
      "cell_type": "markdown",
      "metadata": {
        "id": "EaXmhrxB0oGk",
        "colab_type": "text"
      },
      "source": [
        "# gotta encode all the object types! "
      ]
    },
    {
      "cell_type": "code",
      "metadata": {
        "_uuid": "be37de0a0e60166a891ce181189bbcd25be46b1a",
        "id": "avfTVEhV0oGl",
        "colab_type": "code",
        "colab": {}
      },
      "source": [
        "labelencoder=LabelEncoder()#分類器にかける前に文字データを離散の数値に変換するときに使われる。\n",
        "\n",
        "all_df['MSZoning']      = labelencoder.fit_transform(all_df['MSZoning'].astype(str))\n",
        "all_df['Exterior1st']   = labelencoder.fit_transform(all_df['Exterior1st'].astype(str))\n",
        "all_df['Exterior2nd']   = labelencoder.fit_transform(all_df['Exterior2nd'].astype(str))\n",
        "all_df['KitchenQual']   = labelencoder.fit_transform(all_df['KitchenQual'].astype(str))\n",
        "all_df['Functional']    = labelencoder.fit_transform(all_df['Functional'].astype(str))\n",
        "all_df['SaleType']      = labelencoder.fit_transform(all_df['SaleType'].astype(str))\n",
        "all_df['Street']        = labelencoder.fit_transform(all_df['Street'])   \n",
        "all_df['LotShape']      = labelencoder.fit_transform(all_df['LotShape'])   \n",
        "all_df['LandContour']   = labelencoder.fit_transform(all_df['LandContour'])   \n",
        "all_df['LotConfig']     = labelencoder.fit_transform(all_df['LotConfig'])   \n",
        "all_df['LandSlope']     = labelencoder.fit_transform(all_df['LandSlope'])   \n",
        "all_df['Neighborhood']  = labelencoder.fit_transform(all_df['Neighborhood'])   \n",
        "all_df['Condition1']    = labelencoder.fit_transform(all_df['Condition1'])   \n",
        "all_df['Condition2']    = labelencoder.fit_transform(all_df['Condition2'])   \n",
        "all_df['BldgType']      = labelencoder.fit_transform(all_df['BldgType'])   \n",
        "all_df['HouseStyle']    = labelencoder.fit_transform(all_df['HouseStyle'])   \n",
        "all_df['RoofStyle']     = labelencoder.fit_transform(all_df['RoofStyle'])   \n",
        "all_df['RoofMatl']      = labelencoder.fit_transform(all_df['RoofMatl'])    \n",
        "all_df['MasVnrType']    = labelencoder.fit_transform(all_df['MasVnrType'])   \n",
        "all_df['ExterQual']     = labelencoder.fit_transform(all_df['ExterQual'])  \n",
        "all_df['ExterCond']     = labelencoder.fit_transform(all_df['ExterCond'])   \n",
        "all_df['Foundation']    = labelencoder.fit_transform(all_df['Foundation'])   \n",
        "all_df['BsmtQual']      = labelencoder.fit_transform(all_df['BsmtQual'])   \n",
        "all_df['BsmtCond']      = labelencoder.fit_transform(all_df['BsmtCond'])   \n",
        "all_df['BsmtExposure']  = labelencoder.fit_transform(all_df['BsmtExposure'])   \n",
        "all_df['BsmtFinType1']  = labelencoder.fit_transform(all_df['BsmtFinType1'])   \n",
        "all_df['BsmtFinType2']  = labelencoder.fit_transform(all_df['BsmtFinType2'])   \n",
        "all_df['Heating']       = labelencoder.fit_transform(all_df['Heating'])   \n",
        "all_df['HeatingQC']     = labelencoder.fit_transform(all_df['HeatingQC'])   \n",
        "all_df['CentralAir']    = labelencoder.fit_transform(all_df['CentralAir'])   \n",
        "all_df['Electrical']    = labelencoder.fit_transform(all_df['Electrical'])    \n",
        "all_df['GarageType']    = labelencoder.fit_transform(all_df['GarageType'])  \n",
        "all_df['GarageFinish']  = labelencoder.fit_transform(all_df['GarageFinish'])   \n",
        "all_df['GarageQual']    = labelencoder.fit_transform(all_df['GarageQual'])  \n",
        "all_df['GarageCond']    = labelencoder.fit_transform(all_df['GarageCond'])   \n",
        "all_df['PavedDrive']    = labelencoder.fit_transform(all_df['PavedDrive'])  \n",
        "all_df['SaleCondition'] = labelencoder.fit_transform(all_df['SaleCondition'])  "
      ],
      "execution_count": null,
      "outputs": []
    },
    {
      "cell_type": "markdown",
      "metadata": {
        "id": "69EueYpc0oGp",
        "colab_type": "text"
      },
      "source": [
        "# need to scale in case we want to use linear models"
      ]
    },
    {
      "cell_type": "code",
      "metadata": {
        "_uuid": "5c1be1ee5621bb3e398526e892fcf6bcb96866ce",
        "id": "a8E9IgQz0oGq",
        "colab_type": "code",
        "colab": {}
      },
      "source": [
        "Scaler = StandardScaler()\n",
        "all_scaled = pd.DataFrame(Scaler.fit_transform(all_df))\n",
        "\n",
        "train_scaled = pd.DataFrame(all_scaled[:1460])\n",
        "test_scaled = pd.DataFrame(all_scaled[1460:2920])"
      ],
      "execution_count": null,
      "outputs": []
    },
    {
      "cell_type": "markdown",
      "metadata": {
        "id": "_ocpjte30oGv",
        "colab_type": "text"
      },
      "source": [
        "# train - test split !"
      ]
    },
    {
      "cell_type": "code",
      "metadata": {
        "_uuid": "42cf99169f7916ba1db20a1500239e2687145734",
        "id": "DxmGimij0oGw",
        "colab_type": "code",
        "colab": {}
      },
      "source": [
        "X = train_scaled\n",
        "X_train, X_test, y_train, y_test = train_test_split(X, y['SalePrice'], test_size=0.1, random_state=42)"
      ],
      "execution_count": null,
      "outputs": []
    },
    {
      "cell_type": "markdown",
      "metadata": {
        "id": "a5snBWCG0oG0",
        "colab_type": "text"
      },
      "source": [
        "# XGBoost"
      ]
    },
    {
      "cell_type": "code",
      "metadata": {
        "_uuid": "1652863384f5f8b245b8e01585bc0a643ccdbfe7",
        "id": "mBrcM63b0oG1",
        "colab_type": "code",
        "colab": {
          "base_uri": "https://localhost:8080/",
          "height": 161
        },
        "outputId": "253ab181-50dc-49ab-cc20-51bcc67e9b7e"
      },
      "source": [
        "from xgboost import XGBRegressor\n",
        "XGB = XGBRegressor(max_depth=3,learning_rate=0.1,n_estimators=1000,reg_alpha=0.001,reg_lambda=0.000001,n_jobs=-1,min_child_weight=3)\n",
        "XGB.fit(X_train,y_train)"
      ],
      "execution_count": null,
      "outputs": [
        {
          "output_type": "stream",
          "text": [
            "[04:07:59] WARNING: /workspace/src/objective/regression_obj.cu:152: reg:linear is now deprecated in favor of reg:squarederror.\n"
          ],
          "name": "stdout"
        },
        {
          "output_type": "execute_result",
          "data": {
            "text/plain": [
              "XGBRegressor(base_score=0.5, booster='gbtree', colsample_bylevel=1,\n",
              "             colsample_bynode=1, colsample_bytree=1, gamma=0,\n",
              "             importance_type='gain', learning_rate=0.1, max_delta_step=0,\n",
              "             max_depth=3, min_child_weight=3, missing=None, n_estimators=1000,\n",
              "             n_jobs=-1, nthread=None, objective='reg:linear', random_state=0,\n",
              "             reg_alpha=0.001, reg_lambda=1e-06, scale_pos_weight=1, seed=None,\n",
              "             silent=None, subsample=1, verbosity=1)"
            ]
          },
          "metadata": {
            "tags": []
          },
          "execution_count": 83
        }
      ]
    },
    {
      "cell_type": "markdown",
      "metadata": {
        "id": "2flAhKop0oG5",
        "colab_type": "text"
      },
      "source": [
        "# Light GBM"
      ]
    },
    {
      "cell_type": "code",
      "metadata": {
        "id": "YbOsGMOy0oG6",
        "colab_type": "code",
        "colab": {
          "base_uri": "https://localhost:8080/",
          "height": 125
        },
        "outputId": "bc8b3b30-2bd6-4286-84e5-0334a06e51aa"
      },
      "source": [
        "from lightgbm import LGBMRegressor\n",
        "LGBM = LGBMRegressor(n_estimators = 1000)\n",
        "LGBM.fit(X_train,y_train)"
      ],
      "execution_count": null,
      "outputs": [
        {
          "output_type": "execute_result",
          "data": {
            "text/plain": [
              "LGBMRegressor(boosting_type='gbdt', class_weight=None, colsample_bytree=1.0,\n",
              "              importance_type='split', learning_rate=0.1, max_depth=-1,\n",
              "              min_child_samples=20, min_child_weight=0.001, min_split_gain=0.0,\n",
              "              n_estimators=1000, n_jobs=-1, num_leaves=31, objective=None,\n",
              "              random_state=None, reg_alpha=0.0, reg_lambda=0.0, silent=True,\n",
              "              subsample=1.0, subsample_for_bin=200000, subsample_freq=0)"
            ]
          },
          "metadata": {
            "tags": []
          },
          "execution_count": 84
        }
      ]
    },
    {
      "cell_type": "markdown",
      "metadata": {
        "id": "E_QpcYre0oG_",
        "colab_type": "text"
      },
      "source": [
        "# our scores"
      ]
    },
    {
      "cell_type": "code",
      "metadata": {
        "_uuid": "a24ba8aaef9722fa608915507d39d6bada3a6a21",
        "id": "cVuvM9TZ0oHA",
        "colab_type": "code",
        "colab": {
          "base_uri": "https://localhost:8080/",
          "height": 53
        },
        "outputId": "92ccca31-f27b-4037-afd9-be1c8f1f6c29"
      },
      "source": [
        "print (\"Training score:\",XGB.score(X_train,y_train),\"Test Score:\",XGB.score(X_test,y_test))\n",
        "print (\"Training score:\",LGBM.score(X_train,y_train),\"Test Score:\",LGBM.score(X_test,y_test))"
      ],
      "execution_count": null,
      "outputs": [
        {
          "output_type": "stream",
          "text": [
            "Training score: 0.9984383142362594 Test Score: 0.9360790407423961\n",
            "Training score: 0.9999557727264998 Test Score: 0.9101390980189892\n"
          ],
          "name": "stdout"
        }
      ]
    },
    {
      "cell_type": "markdown",
      "metadata": {
        "id": "xzxr48D40oHE",
        "colab_type": "text"
      },
      "source": [
        "# blend 50% + 50%"
      ]
    },
    {
      "cell_type": "code",
      "metadata": {
        "_uuid": "c071cd267ce43a9a0133fa3f1b8841d72c502c0a",
        "id": "g9uFYrDo0oHG",
        "colab_type": "code",
        "colab": {
          "base_uri": "https://localhost:8080/",
          "height": 233
        },
        "outputId": "ebe09241-a8c4-4a2e-d765-a90e81574fa8"
      },
      "source": [
        "y_pred_xgb  = pd.DataFrame( XGB.predict(test_scaled))\n",
        "y_pred_lgbm = pd.DataFrame(LGBM.predict(test_scaled))\n",
        "\n",
        "y_pred=pd.DataFrame()\n",
        "print(y_pred_xgb[0])\n",
        "y_pred['SalePrice'] = 0.5 * y_pred_xgb[0] + 0.5 * y_pred_lgbm[0]\n",
        "y_pred['Id'] = test['Id']"
      ],
      "execution_count": null,
      "outputs": [
        {
          "output_type": "stream",
          "text": [
            "0       125315.906250\n",
            "1       165793.921875\n",
            "2       186912.890625\n",
            "3       194728.187500\n",
            "4       180436.968750\n",
            "            ...      \n",
            "1454     75599.414062\n",
            "1455     78360.882812\n",
            "1456    181291.609375\n",
            "1457    117402.601562\n",
            "1458    229654.265625\n",
            "Name: 0, Length: 1459, dtype: float32\n"
          ],
          "name": "stdout"
        }
      ]
    },
    {
      "cell_type": "markdown",
      "metadata": {
        "id": "iAdHSXVE0oHK",
        "colab_type": "text"
      },
      "source": [
        "# finally the submission"
      ]
    },
    {
      "cell_type": "code",
      "metadata": {
        "_uuid": "bec42daa48d8c3f7922c6cd4f2b4a25090f7713d",
        "id": "pHMUPJ9V0oHL",
        "colab_type": "code",
        "colab": {}
      },
      "source": [
        "y_pred.to_csv('house_price_blend.csv',index=False)"
      ],
      "execution_count": null,
      "outputs": []
    },
    {
      "cell_type": "markdown",
      "metadata": {
        "id": "wXPIJePr0oHP",
        "colab_type": "text"
      },
      "source": [
        "# Some Regression Visuals to help us understand the current state!"
      ]
    },
    {
      "cell_type": "code",
      "metadata": {
        "id": "ELCQNNv20oHQ",
        "colab_type": "code",
        "colab": {
          "base_uri": "https://localhost:8080/",
          "height": 73
        },
        "outputId": "b0cde5d8-269f-413b-efc8-b812661897aa"
      },
      "source": [
        "from yellowbrick.regressor import ResidualsPlot\n",
        "from yellowbrick.regressor import PredictionError\n",
        "from yellowbrick.model_selection import ValidationCurve"
      ],
      "execution_count": null,
      "outputs": [
        {
          "output_type": "stream",
          "text": [
            "/usr/local/lib/python3.6/dist-packages/sklearn/utils/deprecation.py:144: FutureWarning: The sklearn.metrics.classification module is  deprecated in version 0.22 and will be removed in version 0.24. The corresponding classes / functions should instead be imported from sklearn.metrics. Anything that cannot be imported from sklearn.metrics is now part of the private API.\n",
            "  warnings.warn(message, FutureWarning)\n"
          ],
          "name": "stderr"
        }
      ]
    },
    {
      "cell_type": "code",
      "metadata": {
        "id": "md2nlWhL0oHU",
        "colab_type": "code",
        "colab": {
          "base_uri": "https://localhost:8080/",
          "height": 493
        },
        "outputId": "c6afda72-0f83-433a-8fe8-b9d78b447964"
      },
      "source": [
        "visualizer = ResidualsPlot(XGB)\n",
        "visualizer.fit(X_train, y_train)  \n",
        "visualizer.score(X_test, y_test)\n",
        "visualizer"
      ],
      "execution_count": null,
      "outputs": [
        {
          "output_type": "stream",
          "text": [
            "[04:13:50] WARNING: /workspace/src/objective/regression_obj.cu:152: reg:linear is now deprecated in favor of reg:squarederror.\n"
          ],
          "name": "stdout"
        },
        {
          "output_type": "stream",
          "text": [
            "/usr/local/lib/python3.6/dist-packages/sklearn/base.py:197: FutureWarning: From version 0.24, get_params will raise an AttributeError if a parameter cannot be retrieved as an instance attribute. Previously it would return None.\n",
            "  FutureWarning)\n"
          ],
          "name": "stderr"
        },
        {
          "output_type": "execute_result",
          "data": {
            "text/plain": [
              "ResidualsPlot(alpha=0.75,\n",
              "              ax=<matplotlib.axes._subplots.AxesSubplot object at 0x7f7321e294e0>,\n",
              "              hist=True, line_color=None, model=None, test_color=None,\n",
              "              train_color=None)"
            ]
          },
          "metadata": {
            "tags": []
          },
          "execution_count": 91
        },
        {
          "output_type": "display_data",
          "data": {
            "image/png": "[encoded data removed]",
            "text/plain": [
              "<Figure size 576x396 with 2 Axes>"
            ]
          },
          "metadata": {
            "tags": []
          }
        }
      ]
    },
    {
      "cell_type": "code",
      "metadata": {
        "id": "CXBFVIbw0oHZ",
        "colab_type": "code",
        "colab": {},
        "outputId": "d73c7407-f111-4359-e2c4-1fdb4f79233e"
      },
      "source": [
        "model = Lasso(alpha=10)\n",
        "visualizer = PredictionError(model)\n",
        "\n",
        "visualizer.fit(X_train, y_train)  \n",
        "visualizer.score(X_test, y_test)\n",
        "                 \n"
      ],
      "execution_count": null,
      "outputs": [
        {
          "output_type": "execute_result",
          "data": {
            "text/plain": [
              "0.8495537369561037"
            ]
          },
          "metadata": {
            "tags": []
          },
          "execution_count": 20
        },
        {
          "output_type": "display_data",
          "data": {
            "image/png": "[encoded data removed]",
            "text/plain": [
              "<Figure size 576x396 with 1 Axes>"
            ]
          },
          "metadata": {
            "tags": []
          }
        }
      ]
    },
    {
      "cell_type": "markdown",
      "metadata": {
        "_uuid": "eeacf6341e6a61ccbeabcdda8aacd47d215d9733",
        "id": "OYww5ujU0oHd",
        "colab_type": "text"
      },
      "source": [
        "## thanks a lot for your time! I'm trying to keep this notebook in a neat way to help the beginners! Though I'm planning to add some simple EDA blocks as well."
      ]
    },
    {
      "cell_type": "markdown",
      "metadata": {
        "id": "sF0aqTWN0oHe",
        "colab_type": "text"
      },
      "source": [
        "### I'm a big fan of Yellowbricks: Machine Learning Visualization library (especially their regression visualisation tools)\n",
        "\n",
        "### You can find additional information through its website: https://www.scikit-yb.org/en/latest/\n",
        "\n",
        "![](https://www.scikit-yb.org/en/latest/_images/banner.png)"
      ]
    },
    {
      "cell_type": "markdown",
      "metadata": {
        "id": "9AsdCMcZ0oHf",
        "colab_type": "text"
      },
      "source": [
        "Please upvote if you like it!"
      ]
    }
  ]
}